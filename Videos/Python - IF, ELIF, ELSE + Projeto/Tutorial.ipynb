{
  "nbformat": 4,
  "nbformat_minor": 0,
  "metadata": {
    "colab": {
      "name": "Tutorial.ipynb",
      "provenance": [],
      "collapsed_sections": [
        "DLQjJDIqUb_7",
        "C2z-KI07UYED",
        "oDM13zGqUeVm",
        "_-5Z33bhtu-D",
        "5cJTtgjDKUpr"
      ],
      "toc_visible": true
    },
    "kernelspec": {
      "name": "python3",
      "display_name": "Python 3"
    }
  },
  "cells": [
    {
      "cell_type": "markdown",
      "metadata": {
        "id": "43mAgt8PEyud"
      },
      "source": [
        "# IF, ELSE, ELIF"
      ]
    },
    {
      "cell_type": "markdown",
      "metadata": {
        "id": "DLQjJDIqUb_7"
      },
      "source": [
        "##IF"
      ]
    },
    {
      "cell_type": "code",
      "metadata": {
        "id": "bJAoA3aoUK0c",
        "colab": {
          "base_uri": "https://localhost:8080/"
        },
        "outputId": "ab45dc2f-8271-434b-8d58-e5c9c5fc2891"
      },
      "source": [
        "# se <condição>:\n",
        "#   <ação>\n",
        "\n",
        "numero = 1\n",
        "if numero > 0:\n",
        "  print('Positivo.\\n')"
      ],
      "execution_count": null,
      "outputs": [
        {
          "output_type": "stream",
          "text": [
            "Positivo.\n",
            "\n"
          ],
          "name": "stdout"
        }
      ]
    },
    {
      "cell_type": "markdown",
      "metadata": {
        "id": "C2z-KI07UYED"
      },
      "source": [
        "##ELSE"
      ]
    },
    {
      "cell_type": "code",
      "metadata": {
        "id": "_z6OlSH6UMzw",
        "colab": {
          "base_uri": "https://localhost:8080/"
        },
        "outputId": "acbce5a7-1a96-40cc-cb90-463751a62627"
      },
      "source": [
        "# se <condição>:\n",
        "#   <ação>\n",
        "# se não:\n",
        "#   <ação>\n",
        "\n",
        "numero = 1\n",
        "if numero >= 0:\n",
        "  print('Positivo ou Zero.\\n')\n",
        "else:\n",
        "  print('Negativo.\\n')"
      ],
      "execution_count": null,
      "outputs": [
        {
          "output_type": "stream",
          "text": [
            "Positivo ou Zero.\n",
            "\n"
          ],
          "name": "stdout"
        }
      ]
    },
    {
      "cell_type": "markdown",
      "metadata": {
        "id": "oDM13zGqUeVm"
      },
      "source": [
        "##ELIF"
      ]
    },
    {
      "cell_type": "code",
      "metadata": {
        "id": "yDLDupBhE7LD",
        "colab": {
          "base_uri": "https://localhost:8080/"
        },
        "outputId": "8efe9e8a-9bea-4144-a83b-02737a24f769"
      },
      "source": [
        "# se <condição>:\n",
        "#   <ação>\n",
        "# se não se <condição>:\n",
        "#   <ação>\n",
        "# se não:\n",
        "#   <ação>\n",
        "\n",
        "numero = 0\n",
        "if numero > 0:\n",
        "  print('Positivo.\\n')\n",
        "elif numero < 0:\n",
        "  print('Negativo.\\n')\n",
        "else:\n",
        "  print('Zero.\\n')"
      ],
      "execution_count": null,
      "outputs": [
        {
          "output_type": "stream",
          "text": [
            "Zero.\n",
            "\n"
          ],
          "name": "stdout"
        }
      ]
    },
    {
      "cell_type": "markdown",
      "metadata": {
        "id": "_-5Z33bhtu-D"
      },
      "source": [
        "## IF in IF"
      ]
    },
    {
      "cell_type": "code",
      "metadata": {
        "id": "HKx6GWHvUPmD",
        "colab": {
          "base_uri": "https://localhost:8080/"
        },
        "outputId": "a6ecfe57-0e58-4ec2-b733-8bd4b534231e"
      },
      "source": [
        "# se <condição>:\n",
        "#   <ação>\n",
        "#   se <condição>:\n",
        "#    <ação>\n",
        "#   se não:\n",
        "#     <ação>\n",
        "# se não:\n",
        "#   <ação>\n",
        "\n",
        "numero = 0\n",
        "if numero >= 0:\n",
        "  if numero == 0:\n",
        "    print('Zero.\\n')\n",
        "  else:\n",
        "    print('Positivo.\\n')\n",
        "else:\n",
        "  print('Negativo.\\n')"
      ],
      "execution_count": null,
      "outputs": [
        {
          "output_type": "stream",
          "text": [
            "Zero.\n",
            "\n"
          ],
          "name": "stdout"
        }
      ]
    },
    {
      "cell_type": "markdown",
      "metadata": {
        "id": "5cJTtgjDKUpr"
      },
      "source": [
        "\n",
        "## PROJETO: JOGO DE ADIVINHAÇÃO\n"
      ]
    },
    {
      "cell_type": "code",
      "metadata": {
        "id": "QJFumkXKKCHC",
        "colab": {
          "base_uri": "https://localhost:8080/"
        },
        "outputId": "87dedd05-5378-42a7-b00e-bc17e90bbfeb"
      },
      "source": [
        "# Jogo de adivinhação para o usuário descobrir qual é o número definido.\n",
        "\n",
        "# Definindo o número que deverá ser acertado.\n",
        "numero = 32\n",
        "\n",
        "# Pedido para o usuário informar um número.\n",
        "chute = int(input('Qual você acha que é o número? '))\n",
        "\n",
        "# Verificando se o usuário acertou.\n",
        "if chute == numero:\n",
        "  print('Parabéns, você acertou !!\\n')\n",
        "else:\n",
        "  print('Que pena, você errou!\\n')"
      ],
      "execution_count": null,
      "outputs": [
        {
          "output_type": "stream",
          "text": [
            "Qual você acha que é o número? 32\n",
            "Parabéns, você acertou !!\n",
            "\n"
          ],
          "name": "stdout"
        }
      ]
    },
    {
      "cell_type": "code",
      "metadata": {
        "id": "boc4DlHDLe3L",
        "colab": {
          "base_uri": "https://localhost:8080/"
        },
        "outputId": "38c6b270-14a6-46b4-d983-3e27eb7a70bd"
      },
      "source": [
        "# Jogo de adivinhação para o usuário descobrir qual é o número definido.\n",
        "\n",
        "# Definindo o número que deverá ser acertado.\n",
        "numero = 32\n",
        "\n",
        "# Pedido para o usuário informar um número.\n",
        "chute = int(input('Qual você acha que é o número? '))\n",
        "\n",
        "# Verificando se o usuário acertou ou se chutou baixo ou alto.\n",
        "if chute == numero:\n",
        "  print('Parabéns, você acertou !!\\n')\n",
        "elif chute < numero:\n",
        "  print('Você chutou baixo.\\n')\n",
        "else:\n",
        "  print('Você chutou alto.\\n')"
      ],
      "execution_count": null,
      "outputs": [
        {
          "output_type": "stream",
          "text": [
            "Qual você acha que é o número? 50\n",
            "Você chutou alto.\n",
            "\n"
          ],
          "name": "stdout"
        }
      ]
    }
  ]
}